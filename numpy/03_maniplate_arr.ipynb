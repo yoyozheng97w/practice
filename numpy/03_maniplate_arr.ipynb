{
 "cells": [
  {
   "cell_type": "code",
   "execution_count": 3,
   "metadata": {},
   "outputs": [],
   "source": [
    "import numpy as np\n",
    "a0 = np.zeros((2, 3), dtype='int')\n",
    "a_str = np.empty((2, 3), dtype='str')\n",
    "a1 = np.array([1, 2, 3])\n",
    "a2 = np.array([[1, 2, 3], \n",
    "               [4, 5, 6],\n",
    "               [7, 8, 9],\n",
    "               [10, 11, 12]])"
   ]
  },
  {
   "cell_type": "markdown",
   "metadata": {},
   "source": [
    "append, insert, delete 會產生新的陣列， 原陣列不會異動到\n",
    "+ np.append(arr, value, axis=None)\n",
    "+ np.insert(arr, obj, value, axis=None)\n",
    "    + obj: index or indices before which values is inserted.\n",
    "+ np.delete(arr, obj, axis=None)"
   ]
  },
  {
   "cell_type": "code",
   "execution_count": 4,
   "metadata": {},
   "outputs": [
    {
     "name": "stdout",
     "output_type": "stream",
     "text": [
      "a: [1 2 3 9]\n",
      "a1: [1 2 3]\n",
      "[1 2 3 4 5 6]\n"
     ]
    }
   ],
   "source": [
    "a = np.append(a1, 9)\n",
    "print(f\"a: {a}\")\n",
    "print(f\"a1: {a1}\")\n",
    "a_append_many = np.append(a1, (4, 5, 6))\n",
    "print(a_append_many)"
   ]
  },
  {
   "cell_type": "code",
   "execution_count": 30,
   "metadata": {},
   "outputs": [
    {
     "name": "stdout",
     "output_type": "stream",
     "text": [
      "a: [8 9 1 2 3]\n",
      "a1: [1 2 3]\n"
     ]
    }
   ],
   "source": [
    "a = np.insert(a1, 0, (8, 9))\n",
    "print(f\"a: {a}\")\n",
    "print(f\"a1: {a1}\")"
   ]
  },
  {
   "cell_type": "code",
   "execution_count": 6,
   "metadata": {},
   "outputs": [
    {
     "name": "stdout",
     "output_type": "stream",
     "text": [
      "[1 2]\n"
     ]
    }
   ],
   "source": [
    "# np.delete(arr, index)\n",
    "a_delete = np.delete(a1, 2)\n",
    "print(a_delete)"
   ]
  },
  {
   "cell_type": "markdown",
   "metadata": {},
   "source": [
    "axis=0：列\n",
    "\n",
    "axis=1：行\n",
    "\n",
    "未指定 axis 會將 array 平面化 (flattened)，視為 1 維陣列"
   ]
  },
  {
   "cell_type": "code",
   "execution_count": 7,
   "metadata": {},
   "outputs": [
    {
     "name": "stdout",
     "output_type": "stream",
     "text": [
      "[ 1  2  3  4  5  6  7  8  9 10 11 12 10 11]\n"
     ]
    }
   ],
   "source": [
    "a_1d = np.append(a2, [10, 11])\n",
    "print(a_1d)"
   ]
  },
  {
   "cell_type": "code",
   "execution_count": 8,
   "metadata": {},
   "outputs": [
    {
     "name": "stdout",
     "output_type": "stream",
     "text": [
      "[[1 2 3]\n",
      " [4 5 6]\n",
      " [7 8 9]\n",
      " [10 11 12]\n",
      " [13 14 None]]\n"
     ]
    }
   ],
   "source": [
    "# append 到 2 維陣列，也需是 2 維\n",
    "a_2d = np.append(a2, [[13, 14, None]], axis=0)\n",
    "print(a_2d)"
   ]
  },
  {
   "cell_type": "code",
   "execution_count": null,
   "metadata": {},
   "outputs": [
    {
     "name": "stdout",
     "output_type": "stream",
     "text": [
      "[[ 1  2  3  0]\n",
      " [ 4  5  6  0]\n",
      " [ 7  8  9  0]\n",
      " [10 11 12  0]]\n"
     ]
    }
   ],
   "source": [
    "a_2d_append_col = np.append(a2, [[0], [0], [0], [0]], axis=1)\n",
    "print(a_2d_append_col)"
   ]
  },
  {
   "cell_type": "code",
   "execution_count": null,
   "metadata": {},
   "outputs": [
    {
     "data": {
      "text/plain": [
       "array([[1],\n",
       "       [2],\n",
       "       [3],\n",
       "       [4]])"
      ]
     },
     "execution_count": 38,
     "metadata": {},
     "output_type": "execute_result"
    }
   ],
   "source": [
    "arow = np.array([1, 2, 3, 4])\n",
    "acol = np.transpose([arow])\n",
    "acol"
   ]
  },
  {
   "cell_type": "code",
   "execution_count": null,
   "metadata": {},
   "outputs": [
    {
     "data": {
      "text/plain": [
       "array([[ 1,  2,  3,  1],\n",
       "       [ 4,  5,  6,  2],\n",
       "       [ 7,  8,  9,  3],\n",
       "       [10, 11, 12,  4]])"
      ]
     },
     "execution_count": 22,
     "metadata": {},
     "output_type": "execute_result"
    }
   ],
   "source": [
    "a2_append_acol = np.append(a2, np.transpose([arow]), axis=1)\n",
    "a2_append_acol"
   ]
  },
  {
   "cell_type": "code",
   "execution_count": 31,
   "metadata": {},
   "outputs": [
    {
     "name": "stdout",
     "output_type": "stream",
     "text": [
      "[[ 1  2  3]\n",
      " [13 14 15]\n",
      " [ 4  5  6]\n",
      " [ 7  8  9]\n",
      " [10 11 12]]\n"
     ]
    }
   ],
   "source": [
    "# insert：有指定 insert 到哪一列，所以新增 1 維資料\n",
    "a_2d_insert = np.insert(a2, 1, [13, 14, 15], axis=0)\n",
    "print(a_2d_insert)"
   ]
  },
  {
   "cell_type": "code",
   "execution_count": 32,
   "metadata": {},
   "outputs": [
    {
     "name": "stdout",
     "output_type": "stream",
     "text": [
      "[[ 1  0  2  3]\n",
      " [ 4  0  5  6]\n",
      " [ 7  0  8  9]\n",
      " [10  0 11 12]]\n"
     ]
    }
   ],
   "source": [
    "a_2d_insert_col = np.insert(a2, 1, [0, 0, 0, 0], axis=1)\n",
    "print(a_2d_insert_col)"
   ]
  },
  {
   "cell_type": "code",
   "execution_count": null,
   "metadata": {},
   "outputs": [
    {
     "data": {
      "text/plain": [
       "array([[1, 3, 5],\n",
       "       [2, 4, 6]])"
      ]
     },
     "execution_count": 35,
     "metadata": {},
     "output_type": "execute_result"
    }
   ],
   "source": [
    "bcol = np.array([[1, 2], \n",
    "                 [3, 4], \n",
    "                 [5, 6]])\n",
    "brow = np.transpose(bcol)\n",
    "brow"
   ]
  },
  {
   "cell_type": "code",
   "execution_count": null,
   "metadata": {},
   "outputs": [
    {
     "data": {
      "text/plain": [
       "array([[ 1,  2,  3],\n",
       "       [ 7,  8,  9],\n",
       "       [10, 11, 12]])"
      ]
     },
     "execution_count": 39,
     "metadata": {},
     "output_type": "execute_result"
    }
   ],
   "source": [
    "a2_delete_row = np.delete(a2, 1, axis=0)\n",
    "a2_delete_row"
   ]
  },
  {
   "cell_type": "code",
   "execution_count": null,
   "metadata": {},
   "outputs": [
    {
     "data": {
      "text/plain": [
       "array([[ 1,  3],\n",
       "       [ 4,  6],\n",
       "       [ 7,  9],\n",
       "       [10, 12]])"
      ]
     },
     "execution_count": 40,
     "metadata": {},
     "output_type": "execute_result"
    }
   ],
   "source": [
    "a2_delete_col = np.delete(a2, 1, axis=1)\n",
    "a2_delete_col"
   ]
  },
  {
   "cell_type": "code",
   "execution_count": 45,
   "metadata": {},
   "outputs": [
    {
     "name": "stdout",
     "output_type": "stream",
     "text": [
      "[[1 2 3]\n",
      " [4 5 6]]\n",
      "[[1 2]\n",
      " [3 4]\n",
      " [5 6]]\n"
     ]
    }
   ],
   "source": [
    "arr = np.array([1, 2, 3, 4, 5, 6])\n",
    "re_arr = arr.reshape(2, 3)\n",
    "print(re_arr)\n",
    "rere_arr = re_arr.reshape(3, 2)\n",
    "print(rere_arr)"
   ]
  },
  {
   "cell_type": "code",
   "execution_count": 46,
   "metadata": {},
   "outputs": [
    {
     "name": "stdout",
     "output_type": "stream",
     "text": [
      "[1 2 3 4 5 6]\n"
     ]
    }
   ],
   "source": [
    "ra_arr = rere_arr.ravel()\n",
    "print(ra_arr)"
   ]
  }
 ],
 "metadata": {
  "kernelspec": {
   "display_name": "base",
   "language": "python",
   "name": "python3"
  },
  "language_info": {
   "codemirror_mode": {
    "name": "ipython",
    "version": 3
   },
   "file_extension": ".py",
   "mimetype": "text/x-python",
   "name": "python",
   "nbconvert_exporter": "python",
   "pygments_lexer": "ipython3",
   "version": "3.12.3"
  }
 },
 "nbformat": 4,
 "nbformat_minor": 2
}
