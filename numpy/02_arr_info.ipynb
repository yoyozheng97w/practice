{
 "cells": [
  {
   "cell_type": "code",
   "execution_count": 7,
   "metadata": {},
   "outputs": [],
   "source": [
    "import numpy as np\n",
    "a0 = np.zeros((2, 3), dtype='int')\n",
    "a_str = np.empty((2, 3), dtype='str')\n",
    "a1 = np.array([1, 2, 3])\n",
    "a2 = np.array([[1, 2, 3], \n",
    "               [4, 5, 6],\n",
    "               [7, 8, 9],\n",
    "               [10, 11, 12]])"
   ]
  },
  {
   "cell_type": "code",
   "execution_count": 8,
   "metadata": {},
   "outputs": [
    {
     "name": "stdout",
     "output_type": "stream",
     "text": [
      "a2 的最高維度：2\n",
      "a2 的維度：(4, 3)\n",
      "a_str 的元素總數：6\n",
      "a2 元素的 type：int32\n"
     ]
    }
   ],
   "source": [
    "# ndim：取得最高維度\n",
    "print(f\"a2 的最高維度：{a2.ndim}\")\n",
    "# shape：取得維度\n",
    "print(f\"a2 的維度：{a2.shape}\")\n",
    "# size：元素總數\n",
    "print(f\"a_str 的元素總數：{a_str.size}\")\n",
    "# dtype：元素的 type\n",
    "print(f\"a2 元素的 type：{a2.dtype}\")"
   ]
  },
  {
   "cell_type": "code",
   "execution_count": 9,
   "metadata": {},
   "outputs": [
    {
     "name": "stdout",
     "output_type": "stream",
     "text": [
      "[1 2]\n"
     ]
    }
   ],
   "source": [
    "# 陣列資料處理\n",
    "# 取索引 0 到 2 (不含)的元素\n",
    "print(a1[0:2])"
   ]
  },
  {
   "cell_type": "code",
   "execution_count": 10,
   "metadata": {},
   "outputs": [
    {
     "name": "stdout",
     "output_type": "stream",
     "text": [
      "[[1 2 3]\n",
      " [4 5 6]\n",
      " [7 8 9]]\n",
      "[2 5 8]\n",
      "[4 5]\n",
      "6\n",
      "[[ 5  6]\n",
      " [ 8  9]\n",
      " [11 12]]\n"
     ]
    }
   ],
   "source": [
    "# 取索引 0 到 3 (不含)的元素\n",
    "print(a2[0:3])\n",
    "# 第 0~2 列，第 1 行\n",
    "print(a2[0:3, 1])\n",
    "# 第 1 列，第 0~1 行\n",
    "print(a2[1, 0:2])\n",
    "# 第 1 列，第 2 行\n",
    "print(a2[1, 2])\n",
    "# 第 1~最後一列，第 1~2 行\n",
    "print(a2[1:, 1:3])\n"
   ]
  },
  {
   "cell_type": "code",
   "execution_count": 11,
   "metadata": {},
   "outputs": [
    {
     "name": "stdout",
     "output_type": "stream",
     "text": [
      "1 2 3 4 5 6 7 8 9 10 11 12 "
     ]
    }
   ],
   "source": [
    "# 走訪所有元素\n",
    "for num in np.nditer(a2):\n",
    "    print(num, end=\" \")"
   ]
  }
 ],
 "metadata": {
  "kernelspec": {
   "display_name": "base",
   "language": "python",
   "name": "python3"
  },
  "language_info": {
   "codemirror_mode": {
    "name": "ipython",
    "version": 3
   },
   "file_extension": ".py",
   "mimetype": "text/x-python",
   "name": "python",
   "nbconvert_exporter": "python",
   "pygments_lexer": "ipython3",
   "version": "3.12.3"
  }
 },
 "nbformat": 4,
 "nbformat_minor": 2
}
