{
 "cells": [
  {
   "cell_type": "markdown",
   "metadata": {},
   "source": [
    "# BeautifulSoup\n",
    "\n",
    "- `pip install bs4`\n",
    "- 利用 BeautifulSoup() 將回傳值轉為 BeautifulSoup 物件\n",
    "- 可將 HTML 或 XML 轉為 BeautifulSoup 物件\n",
    "- 再利用 find 或 select 的方法定位標籤\n",
    "    - 先從「開發人員工具」找出標籤位子\n",
    "    - 再用 find 或 select 篩選特定標籤\n",
    "    - 可利用標籤中的屬性協助定位\n",
    "    - 盡可能先用 id 定位，因為 id 是唯一的"
   ]
  },
  {
   "cell_type": "code",
   "execution_count": 1,
   "metadata": {},
   "outputs": [],
   "source": [
    "import os\n",
    "from dotenv import load_dotenv\n",
    "from urllib import request\n",
    "from bs4 import BeautifulSoup"
   ]
  },
  {
   "cell_type": "code",
   "execution_count": 18,
   "metadata": {},
   "outputs": [],
   "source": [
    "url ='https://www.ptt.cc/bbs/joke/index.html'\n",
    "# url =  'http://httpbin.org/get'"
   ]
  },
  {
   "cell_type": "code",
   "execution_count": null,
   "metadata": {},
   "outputs": [
    {
     "data": {
      "text/plain": [
       "<http.client.HTTPResponse at 0x299c114b430>"
      ]
     },
     "execution_count": 20,
     "metadata": {},
     "output_type": "execute_result"
    }
   ],
   "source": [
    "load_dotenv()\n",
    "useragent = os.getenv(\"USER_AGENT\")\n",
    "headers = {'User-Agent' : useragent}\n",
    "req = request.Request(url=url, headers=headers)\n",
    "res = request.urlopen(req)\n",
    "res"
   ]
  },
  {
   "cell_type": "code",
   "execution_count": 21,
   "metadata": {},
   "outputs": [
    {
     "name": "stdout",
     "output_type": "stream",
     "text": [
      "<!DOCTYPE html>\n",
      "\n",
      "<html>\n",
      "<head>\n",
      "<meta charset=\"utf-8\"/>\n",
      "<meta content=\"width=device-width, initial-scale=1\" name=\"viewport\"/>\n",
      "<title>看板 joke 文章列表 - 批踢踢實業坊</title>\n",
      "<link href=\"//images.ptt.cc/bbs/v2.27/bbs-common.css\" rel=\"stylesheet\" type=\"text/css\"/>\n",
      "<link href=\"//images.ptt.cc/bbs/v2.27/bbs-base.css\" media=\"screen\" rel=\"stylesheet\" type=\"text/css\"/>\n",
      "<link href=\"//images.ptt.cc/bbs/v2.27/bbs-custom.css\" rel=\"stylesheet\" type=\"text/css\"/>\n",
      "<link href=\"//images.ptt.cc/bbs/v2.27/pushstream.css\" media=\"screen\" rel=\"stylesheet\" type=\"text/css\"/>\n",
      "<link href=\"//images.ptt.cc/bbs/v2.27/bbs-print.css\" media=\"print\" rel=\"stylesheet\" type=\"text/css\"/>\n",
      "</head>\n",
      "<body>\n",
      "<div id=\"topbar-container\">\n",
      "<div class=\"bbs-content\" id=\"topbar\">\n",
      "<a href=\"/bbs/\" id=\"logo\">批踢踢實業坊</a>\n",
      "<span>›</span>\n",
      "<a class=\"board\" href=\"/bbs/joke/index.html\"><span class=\"board-label\">看板 </span>joke</a>\n",
      "<a class=\"right small\" href=\"/about.html\">關於我們</a>\n",
      "<a class=\"right small\" href=\"/contact.html\">聯絡資訊</a>\n",
      "</div>\n",
      "</div>\n",
      "<div id=\"main-container\">\n",
      "<div id=\"action-bar-container\">\n",
      "<div class=\"action-bar\">\n",
      "<div class=\"btn-group btn-group-dir\">\n",
      "<a class=\"btn selected\" href=\"/bbs/joke/index.html\">看板</a>\n",
      "<a class=\"btn\" href=\"/man/joke/index.html\">精華區</a>\n",
      "</div>\n",
      "<div class=\"btn-group btn-group-paging\">\n",
      "<a class=\"btn wide\" href=\"/bbs/joke/index1.html\">最舊</a>\n",
      "<a class=\"btn wide\" href=\"/bbs/joke/index8611.html\">‹ 上頁</a>\n",
      "<a class=\"btn wide disabled\">下頁 ›</a>\n",
      "<a class=\"btn wide\" href=\"/bbs/joke/index.html\">最新</a>\n",
      "</div>\n",
      "</div>\n",
      "</div>\n",
      "<div class=\"r-list-container action-bar-margin bbs-screen\">\n",
      "<div class=\"search-bar\">\n",
      "<form action=\"search\" id=\"search-bar\" type=\"get\">\n",
      "<input class=\"query\" name=\"q\" placeholder=\"搜尋文章⋯\" type=\"text\" value=\"\"/>\n",
      "</form>\n",
      "</div>\n",
      "<div class=\"r-ent\">\n",
      "<div class=\"nrec\"></div>\n",
      "<div class=\"title\">\n",
      "<a href=\"/bbs/joke/M.1731385899.A.8A9.html\">[猜謎] 什麼雞最聰明？</a>\n",
      "</div>\n",
      "<div class=\"meta\">\n",
      "<div class=\"author\">windows0310</div>\n",
      "<div class=\"article-menu\">\n",
      "<div class=\"trigger\">⋯</div>\n",
      "<div class=\"dropdown\">\n",
      "<div class=\"item\"><a href=\"/bbs/joke/search?q=thread%3A%5B%E7%8C%9C%E8%AC%8E%5D+%E4%BB%80%E9%BA%BC%E9%9B%9E%E6%9C%80%E8%81%B0%E6%98%8E%EF%BC%9F\">搜尋同標題文章</a></div>\n",
      "<div class=\"item\"><a href=\"/bbs/joke/search?q=author%3Awindows0310\">搜尋看板內 windows0310 的文章</a></div>\n",
      "</div>\n",
      "</div>\n",
      "<div class=\"date\">11/12</div>\n",
      "<div class=\"mark\"></div>\n",
      "</div>\n",
      "</div>\n",
      "<div class=\"r-ent\">\n",
      "<div class=\"nrec\"></div>\n",
      "<div class=\"title\">\n",
      "<a href=\"/bbs/joke/M.1731393267.A.43E.html\">[猜謎] 偷東西的人</a>\n",
      "</div>\n",
      "<div class=\"meta\">\n",
      "<div class=\"author\">simoncharlie</div>\n",
      "<div class=\"article-menu\">\n",
      "<div class=\"trigger\">⋯</div>\n",
      "<div class=\"dropdown\">\n",
      "<div class=\"item\"><a href=\"/bbs/joke/search?q=thread%3A%5B%E7%8C%9C%E8%AC%8E%5D+%E5%81%B7%E6%9D%B1%E8%A5%BF%E7%9A%84%E4%BA%BA\">搜尋同標題文章</a></div>\n",
      "<div class=\"item\"><a href=\"/bbs/joke/search?q=author%3Asimoncharlie\">搜尋看板內 simoncharlie 的文章</a></div>\n",
      "</div>\n",
      "</div>\n",
      "<div class=\"date\">11/12</div>\n",
      "<div class=\"mark\"></div>\n",
      "</div>\n",
      "</div>\n",
      "<div class=\"r-ent\">\n",
      "<div class=\"nrec\"></div>\n",
      "<div class=\"title\">\n",
      "<a href=\"/bbs/joke/M.1731401816.A.5F6.html\">[趣圖] 聽個笑話都變得像是在考試</a>\n",
      "</div>\n",
      "<div class=\"meta\">\n",
      "<div class=\"author\">EYECTV</div>\n",
      "<div class=\"article-menu\">\n",
      "<div class=\"trigger\">⋯</div>\n",
      "<div class=\"dropdown\">\n",
      "<div class=\"item\"><a href=\"/bbs/joke/search?q=thread%3A%5B%E8%B6%A3%E5%9C%96%5D+%E8%81%BD%E5%80%8B%E7%AC%91%E8%A9%B1%E9%83%BD%E8%AE%8A%E5%BE%97%E5%83%8F%E6%98%AF%E5%9C%A8%E8%80%83%E8%A9%A6\">搜尋同標題文章</a></div>\n",
      "<div class=\"item\"><a href=\"/bbs/joke/search?q=author%3AEYECTV\">搜尋看板內 EYECTV 的文章</a></div>\n",
      "</div>\n",
      "</div>\n",
      "<div class=\"date\">11/12</div>\n",
      "<div class=\"mark\"></div>\n",
      "</div>\n",
      "</div>\n",
      "<div class=\"r-list-sep\"></div>\n",
      "<div class=\"r-ent\">\n",
      "<div class=\"nrec\"></div>\n",
      "<div class=\"title\">\n",
      "<a href=\"/bbs/joke/M.1602005687.A.E4D.html\">[公告] 就可板規</a>\n",
      "</div>\n",
      "<div class=\"meta\">\n",
      "<div class=\"author\">RockCat0218</div>\n",
      "<div class=\"article-menu\">\n",
      "<div class=\"trigger\">⋯</div>\n",
      "<div class=\"dropdown\">\n",
      "<div class=\"item\"><a href=\"/bbs/joke/search?q=thread%3A%5B%E5%85%AC%E5%91%8A%5D+%E5%B0%B1%E5%8F%AF%E6%9D%BF%E8%A6%8F\">搜尋同標題文章</a></div>\n",
      "<div class=\"item\"><a href=\"/bbs/joke/search?q=author%3ARockCat0218\">搜尋看板內 RockCat0218 的文章</a></div>\n",
      "</div>\n",
      "</div>\n",
      "<div class=\"date\">10/07</div>\n",
      "<div class=\"mark\">!</div>\n",
      "</div>\n",
      "</div>\n",
      "<div class=\"r-ent\">\n",
      "<div class=\"nrec\"><span class=\"hl f3\">83</span></div>\n",
      "<div class=\"title\">\n",
      "<a href=\"/bbs/joke/M.1606831943.A.1BB.html\">[閒聊] 置底閒聊文</a>\n",
      "</div>\n",
      "<div class=\"meta\">\n",
      "<div class=\"author\">RockCat0218</div>\n",
      "<div class=\"article-menu\">\n",
      "<div class=\"trigger\">⋯</div>\n",
      "<div class=\"dropdown\">\n",
      "<div class=\"item\"><a href=\"/bbs/joke/search?q=thread%3A%5B%E9%96%92%E8%81%8A%5D+%E7%BD%AE%E5%BA%95%E9%96%92%E8%81%8A%E6%96%87\">搜尋同標題文章</a></div>\n",
      "<div class=\"item\"><a href=\"/bbs/joke/search?q=author%3ARockCat0218\">搜尋看板內 RockCat0218 的文章</a></div>\n",
      "</div>\n",
      "</div>\n",
      "<div class=\"date\">12/01</div>\n",
      "<div class=\"mark\">M</div>\n",
      "</div>\n",
      "</div>\n",
      "<div class=\"r-ent\">\n",
      "<div class=\"nrec\"><span class=\"hl f3\">82</span></div>\n",
      "<div class=\"title\">\n",
      "<a href=\"/bbs/joke/M.1623640717.A.813.html\">[公告] 發、推文提醒</a>\n",
      "</div>\n",
      "<div class=\"meta\">\n",
      "<div class=\"author\">aiweisen</div>\n",
      "<div class=\"article-menu\">\n",
      "<div class=\"trigger\">⋯</div>\n",
      "<div class=\"dropdown\">\n",
      "<div class=\"item\"><a href=\"/bbs/joke/search?q=thread%3A%5B%E5%85%AC%E5%91%8A%5D+%E7%99%BC%E3%80%81%E6%8E%A8%E6%96%87%E6%8F%90%E9%86%92\">搜尋同標題文章</a></div>\n",
      "<div class=\"item\"><a href=\"/bbs/joke/search?q=author%3Aaiweisen\">搜尋看板內 aiweisen 的文章</a></div>\n",
      "</div>\n",
      "</div>\n",
      "<div class=\"date\"> 6/14</div>\n",
      "<div class=\"mark\">M</div>\n",
      "</div>\n",
      "</div>\n",
      "</div>\n",
      "</div>\n",
      "<script async=\"\" src=\"https://www.googletagmanager.com/gtag/js?id=G-DZ6Y3BY9GW\"></script>\n",
      "<script>\n",
      "      window.dataLayer = window.dataLayer || [];\n",
      "      function gtag(){dataLayer.push(arguments);}\n",
      "      gtag('js', new Date());\n",
      "\n",
      "      gtag('config', 'G-DZ6Y3BY9GW');\n",
      "</script>\n",
      "<script>\n",
      "  (function(i,s,o,g,r,a,m){i['GoogleAnalyticsObject']=r;i[r]=i[r]||function(){\n",
      "  (i[r].q=i[r].q||[]).push(arguments)},i[r].l=1*new Date();a=s.createElement(o),\n",
      "  m=s.getElementsByTagName(o)[0];a.async=1;a.src=g;m.parentNode.insertBefore(a,m)\n",
      "  })(window,document,'script','https://www.google-analytics.com/analytics.js','ga');\n",
      "\n",
      "  ga('create', 'UA-32365737-1', {\n",
      "    cookieDomain: 'ptt.cc',\n",
      "    legacyCookieDomain: 'ptt.cc'\n",
      "  });\n",
      "  ga('send', 'pageview');\n",
      "</script>\n",
      "<script src=\"//ajax.googleapis.com/ajax/libs/jquery/2.1.1/jquery.min.js\"></script>\n",
      "<script src=\"//images.ptt.cc/bbs/v2.27/bbs.js\"></script>\n",
      "</body>\n",
      "</html>\n",
      "\n"
     ]
    }
   ],
   "source": [
    "# 不為字串，為 BeautifulSoup 物件\n",
    "soup = BeautifulSoup(res, 'html.parser')\n",
    "# soup = BeautifulSoup(res)       # 會有警告，因 parser 不明確\n",
    "print(soup)"
   ]
  },
  {
   "cell_type": "markdown",
   "metadata": {},
   "source": [
    "## find(), findAll()\n",
    "- syntax：`findAll(tag, attribute)`\n",
    "- find：只會找出一個\n",
    "    - `soup.findAll('div,' {'id' : 'action-bar-container'})`\n",
    "    - `soup.findAll('div', id = 'action-bar-container')`\n",
    "- findAll：找出所有符合條件的標籤，\n",
    "    - return type → list，list裡的每個物件都是 BeautifulSoup 物件，所以可以繼續對裡面 find\n",
    "    - `soup.findAll('div', {'id' : 'action-bar-container'})`\n",
    "    - `soup.findAll('div', id = 'action-bar-container')`"
   ]
  },
  {
   "cell_type": "code",
   "execution_count": 56,
   "metadata": {},
   "outputs": [
    {
     "name": "stdout",
     "output_type": "stream",
     "text": [
      "type: <class 'bs4.element.Tag'>\n"
     ]
    },
    {
     "data": {
      "text/plain": [
       "<div id=\"action-bar-container\">\n",
       "<div class=\"action-bar\">\n",
       "<div class=\"btn-group btn-group-dir\">\n",
       "<a class=\"btn selected\" href=\"/bbs/joke/index.html\">看板</a>\n",
       "<a class=\"btn\" href=\"/man/joke/index.html\">精華區</a>\n",
       "</div>\n",
       "<div class=\"btn-group btn-group-paging\">\n",
       "<a class=\"btn wide\" href=\"/bbs/joke/index1.html\">最舊</a>\n",
       "<a class=\"btn wide\" href=\"/bbs/joke/index8611.html\">‹ 上頁</a>\n",
       "<a class=\"btn wide disabled\">下頁 ›</a>\n",
       "<a class=\"btn wide\" href=\"/bbs/joke/index.html\">最新</a>\n",
       "</div>\n",
       "</div>\n",
       "</div>"
      ]
     },
     "execution_count": 56,
     "metadata": {},
     "output_type": "execute_result"
    }
   ],
   "source": [
    "# html 中，<div id=\"action-bar-container\"> </div> 裡的東西\n",
    "action_bar_find = soup.find('div', {'id' : 'action-bar-container'})\n",
    "print(f\"type: {type(action_bar_find)}\")\n",
    "action_bar_find     # 不是 list"
   ]
  },
  {
   "cell_type": "code",
   "execution_count": 53,
   "metadata": {},
   "outputs": [
    {
     "name": "stdout",
     "output_type": "stream",
     "text": [
      "type: <class 'bs4.element.ResultSet'>\n"
     ]
    },
    {
     "data": {
      "text/plain": [
       "[<div id=\"action-bar-container\">\n",
       " <div class=\"action-bar\">\n",
       " <div class=\"btn-group btn-group-dir\">\n",
       " <a class=\"btn selected\" href=\"/bbs/joke/index.html\">看板</a>\n",
       " <a class=\"btn\" href=\"/man/joke/index.html\">精華區</a>\n",
       " </div>\n",
       " <div class=\"btn-group btn-group-paging\">\n",
       " <a class=\"btn wide\" href=\"/bbs/joke/index1.html\">最舊</a>\n",
       " <a class=\"btn wide\" href=\"/bbs/joke/index8611.html\">‹ 上頁</a>\n",
       " <a class=\"btn wide disabled\">下頁 ›</a>\n",
       " <a class=\"btn wide\" href=\"/bbs/joke/index.html\">最新</a>\n",
       " </div>\n",
       " </div>\n",
       " </div>]"
      ]
     },
     "execution_count": 53,
     "metadata": {},
     "output_type": "execute_result"
    }
   ],
   "source": [
    "action_bar = soup.findAll('div', {'id' : 'action-bar-container'})\n",
    "print(f\"type: {type(action_bar)}\")\n",
    "action_bar  # lsit\n",
    "# type(action_bar)"
   ]
  },
  {
   "cell_type": "code",
   "execution_count": 52,
   "metadata": {},
   "outputs": [
    {
     "name": "stdout",
     "output_type": "stream",
     "text": [
      "type: <class 'bs4.element.Tag'>\n"
     ]
    },
    {
     "data": {
      "text/plain": [
       "<div class=\"action-bar\">\n",
       "<div class=\"btn-group btn-group-dir\">\n",
       "<a class=\"btn selected\" href=\"/bbs/joke/index.html\">看板</a>\n",
       "<a class=\"btn\" href=\"/man/joke/index.html\">精華區</a>\n",
       "</div>\n",
       "<div class=\"btn-group btn-group-paging\">\n",
       "<a class=\"btn wide\" href=\"/bbs/joke/index1.html\">最舊</a>\n",
       "<a class=\"btn wide\" href=\"/bbs/joke/index8611.html\">‹ 上頁</a>\n",
       "<a class=\"btn wide disabled\">下頁 ›</a>\n",
       "<a class=\"btn wide\" href=\"/bbs/joke/index.html\">最新</a>\n",
       "</div>\n",
       "</div>"
      ]
     },
     "execution_count": 52,
     "metadata": {},
     "output_type": "execute_result"
    }
   ],
   "source": [
    "# 在 action_bar 中找第一個 <div>\n",
    "tmp_div = action_bar[0].find('div')\n",
    "print(f\"type: {type(tmp_div)}\")\n",
    "tmp_div\n"
   ]
  },
  {
   "cell_type": "code",
   "execution_count": 31,
   "metadata": {},
   "outputs": [
    {
     "data": {
      "text/plain": [
       "<div class=\"btn-group btn-group-dir\">\n",
       "<a class=\"btn selected\" href=\"/bbs/joke/index.html\">看板</a>\n",
       "<a class=\"btn\" href=\"/man/joke/index.html\">精華區</a>\n",
       "</div>"
      ]
     },
     "execution_count": 31,
     "metadata": {},
     "output_type": "execute_result"
    }
   ],
   "source": [
    "tmp_div_div = action_bar[0].div.div\n",
    "tmp_div_div"
   ]
  },
  {
   "cell_type": "code",
   "execution_count": 57,
   "metadata": {},
   "outputs": [
    {
     "name": "stdout",
     "output_type": "stream",
     "text": [
      "type: <class 'bs4.element.ResultSet'>\n"
     ]
    },
    {
     "data": {
      "text/plain": [
       "[<a class=\"btn selected\" href=\"/bbs/joke/index.html\">看板</a>,\n",
       " <a class=\"btn\" href=\"/man/joke/index.html\">精華區</a>,\n",
       " <a class=\"btn wide\" href=\"/bbs/joke/index1.html\">最舊</a>,\n",
       " <a class=\"btn wide\" href=\"/bbs/joke/index8611.html\">‹ 上頁</a>,\n",
       " <a class=\"btn wide disabled\">下頁 ›</a>,\n",
       " <a class=\"btn wide\" href=\"/bbs/joke/index.html\">最新</a>]"
      ]
     },
     "execution_count": 57,
     "metadata": {},
     "output_type": "execute_result"
    }
   ],
   "source": [
    "# 在 action_bar 中找所有 <a>\n",
    "tmp_a_all = action_bar[0].findAll('a')\n",
    "print(f\"type: {type(tmp_a_all)}\")\n",
    "tmp_a_all"
   ]
  },
  {
   "cell_type": "code",
   "execution_count": 58,
   "metadata": {},
   "outputs": [
    {
     "name": "stdout",
     "output_type": "stream",
     "text": [
      "type: <class 'bs4.element.Tag'>\n"
     ]
    },
    {
     "data": {
      "text/plain": [
       "<a class=\"btn selected\" href=\"/bbs/joke/index.html\">看板</a>"
      ]
     },
     "execution_count": 58,
     "metadata": {},
     "output_type": "execute_result"
    }
   ],
   "source": [
    "# 在 action_bar 中找第一個 <a>\n",
    "tmp_a = action_bar[0].find('a')\n",
    "print(f\"type: {type(tmp_a)}\")\n",
    "tmp_a"
   ]
  },
  {
   "cell_type": "code",
   "execution_count": 59,
   "metadata": {},
   "outputs": [
    {
     "name": "stdout",
     "output_type": "stream",
     "text": [
      "type: <class 'str'>\n"
     ]
    },
    {
     "data": {
      "text/plain": [
       "'看板'"
      ]
     },
     "execution_count": 59,
     "metadata": {},
     "output_type": "execute_result"
    }
   ],
   "source": [
    "tmp_text_in_a = tmp_a.text\n",
    "print(f\"type: {type(tmp_text_in_a)}\")\n",
    "tmp_text_in_a"
   ]
  },
  {
   "cell_type": "code",
   "execution_count": null,
   "metadata": {},
   "outputs": [
    {
     "name": "stdout",
     "output_type": "stream",
     "text": [
      "type: <class 'bs4.element.NavigableString'>\n"
     ]
    },
    {
     "data": {
      "text/plain": [
       "'看板'"
      ]
     },
     "execution_count": 60,
     "metadata": {},
     "output_type": "execute_result"
    }
   ],
   "source": [
    "tmp_string_in_a = tmp_a.string\n",
    "print(f\"type: {type(tmp_string_in_a)}\")\n",
    "tmp_string_in_a"
   ]
  },
  {
   "cell_type": "code",
   "execution_count": 46,
   "metadata": {},
   "outputs": [
    {
     "data": {
      "text/plain": [
       "'https://www.ptt.cc/bbs/joke/index.html'"
      ]
     },
     "execution_count": 46,
     "metadata": {},
     "output_type": "execute_result"
    }
   ],
   "source": [
    "# 取出標籤裡的東西，用法像字典，但其實不是字典\n",
    "tmp_url = tmp_a['href']\n",
    "tmp_url\n",
    "\"https://www.ptt.cc\" + tmp_url"
   ]
  },
  {
   "cell_type": "markdown",
   "metadata": {},
   "source": [
    "# select_one(), select()\n",
    "- syntax：`select('tag[attribute]')`\n",
    "- select_one()：只會找一個\n",
    "- Select 會列出所有符合條件的標籤\n",
    "    - return type → list，list裡的每個物件都是 BeautifulSoup 物件，所以可以繼續對裡面 find\n",
    "    - `soup.select('div[id=\"action-bar-container\"]')`\n",
    "    - `soup.select('div#action-bar-container')`"
   ]
  },
  {
   "cell_type": "code",
   "execution_count": 61,
   "metadata": {},
   "outputs": [
    {
     "name": "stdout",
     "output_type": "stream",
     "text": [
      "type: <class 'bs4.element.ResultSet'>\n"
     ]
    },
    {
     "data": {
      "text/plain": [
       "[<div id=\"action-bar-container\">\n",
       " <div class=\"action-bar\">\n",
       " <div class=\"btn-group btn-group-dir\">\n",
       " <a class=\"btn selected\" href=\"/bbs/joke/index.html\">看板</a>\n",
       " <a class=\"btn\" href=\"/man/joke/index.html\">精華區</a>\n",
       " </div>\n",
       " <div class=\"btn-group btn-group-paging\">\n",
       " <a class=\"btn wide\" href=\"/bbs/joke/index1.html\">最舊</a>\n",
       " <a class=\"btn wide\" href=\"/bbs/joke/index8611.html\">‹ 上頁</a>\n",
       " <a class=\"btn wide disabled\">下頁 ›</a>\n",
       " <a class=\"btn wide\" href=\"/bbs/joke/index.html\">最新</a>\n",
       " </div>\n",
       " </div>\n",
       " </div>]"
      ]
     },
     "execution_count": 61,
     "metadata": {},
     "output_type": "execute_result"
    }
   ],
   "source": [
    "action_bar_sel = soup.select('div[id=\"action-bar-container\"]')\n",
    "# action_bar_sel = soup.select('div#action-bar-container')\n",
    "print(f\"type: {type(action_bar_sel)}\")\n",
    "action_bar_sel"
   ]
  },
  {
   "cell_type": "code",
   "execution_count": 65,
   "metadata": {},
   "outputs": [
    {
     "data": {
      "text/plain": [
       "<div class=\"action-bar\">\n",
       "<div class=\"btn-group btn-group-dir\">\n",
       "<a class=\"btn selected\" href=\"/bbs/joke/index.html\">看板</a>\n",
       "<a class=\"btn\" href=\"/man/joke/index.html\">精華區</a>\n",
       "</div>\n",
       "<div class=\"btn-group btn-group-paging\">\n",
       "<a class=\"btn wide\" href=\"/bbs/joke/index1.html\">最舊</a>\n",
       "<a class=\"btn wide\" href=\"/bbs/joke/index8611.html\">‹ 上頁</a>\n",
       "<a class=\"btn wide disabled\">下頁 ›</a>\n",
       "<a class=\"btn wide\" href=\"/bbs/joke/index.html\">最新</a>\n",
       "</div>\n",
       "</div>"
      ]
     },
     "execution_count": 65,
     "metadata": {},
     "output_type": "execute_result"
    }
   ],
   "source": [
    "action_bar_sel[0].div"
   ]
  },
  {
   "cell_type": "code",
   "execution_count": 75,
   "metadata": {},
   "outputs": [
    {
     "data": {
      "text/plain": [
       "<div class=\"btn-group btn-group-paging\">\n",
       "<a class=\"btn wide\" href=\"/bbs/joke/index1.html\">最舊</a>\n",
       "<a class=\"btn wide\" href=\"/bbs/joke/index8611.html\">‹ 上頁</a>\n",
       "<a class=\"btn wide disabled\">下頁 ›</a>\n",
       "<a class=\"btn wide\" href=\"/bbs/joke/index.html\">最新</a>\n",
       "</div>"
      ]
     },
     "execution_count": 75,
     "metadata": {},
     "output_type": "execute_result"
    }
   ],
   "source": [
    "action_bar_sel[0].div.div.next_sibling.next_sibling"
   ]
  },
  {
   "cell_type": "code",
   "execution_count": 62,
   "metadata": {},
   "outputs": [
    {
     "name": "stdout",
     "output_type": "stream",
     "text": [
      "type: <class 'bs4.element.Tag'>\n"
     ]
    },
    {
     "data": {
      "text/plain": [
       "<div class=\"btn-group btn-group-paging\">\n",
       "<a class=\"btn wide\" href=\"/bbs/joke/index1.html\">最舊</a>\n",
       "<a class=\"btn wide\" href=\"/bbs/joke/index8611.html\">‹ 上頁</a>\n",
       "<a class=\"btn wide disabled\">下頁 ›</a>\n",
       "<a class=\"btn wide\" href=\"/bbs/joke/index.html\">最新</a>\n",
       "</div>"
      ]
     },
     "execution_count": 62,
     "metadata": {},
     "output_type": "execute_result"
    }
   ],
   "source": [
    "tmp_next_sibling = action_bar_sel[0].div.div.next_sibling.next_sibling\n",
    "print(f\"type: {type(tmp_next_sibling)}\")\n",
    "tmp_next_sibling"
   ]
  },
  {
   "cell_type": "code",
   "execution_count": 63,
   "metadata": {},
   "outputs": [
    {
     "name": "stdout",
     "output_type": "stream",
     "text": [
      "\n",
      "\n",
      "‹ 上頁\n",
      "\n",
      "\n",
      "下頁 ›\n",
      "\n",
      "\n",
      "最新\n",
      "\n",
      "\n"
     ]
    }
   ],
   "source": [
    "tmp_siblings = tmp_next_sibling.a.next_siblings\n",
    "for i in tmp_siblings:\n",
    "    print(i.text)"
   ]
  }
 ],
 "metadata": {
  "kernelspec": {
   "display_name": "base",
   "language": "python",
   "name": "python3"
  },
  "language_info": {
   "codemirror_mode": {
    "name": "ipython",
    "version": 3
   },
   "file_extension": ".py",
   "mimetype": "text/x-python",
   "name": "python",
   "nbconvert_exporter": "python",
   "pygments_lexer": "ipython3",
   "version": "3.12.3"
  }
 },
 "nbformat": 4,
 "nbformat_minor": 2
}
